{
 "cells": [
  {
   "cell_type": "markdown",
   "id": "83f0757f-af5e-4ae4-9a6a-07e0148d98ca",
   "metadata": {},
   "source": [
    "# My Jupyter Notebook on IBM Watson Studio"
   ]
  },
  {
   "cell_type": "markdown",
   "id": "1865cdb9-82e2-4e5e-bafe-b28737bafd38",
   "metadata": {},
   "source": [
    "**Darryn Willis**  \n",
    "Data Scientist"
   ]
  },
  {
   "cell_type": "markdown",
   "id": "6b7caf94-7dd5-43c0-bb27-11a7a653ce38",
   "metadata": {},
   "source": [
    "*I am interested in data science because I would like to use it to figure out the world around me and to help people.*"
   ]
  },
  {
   "cell_type": "markdown",
   "id": "e14a1d7c-5f68-42ba-b9b7-aeb8ff1192d4",
   "metadata": {},
   "source": [
    "### The code below must execute and display the output of \"1 + 1\":"
   ]
  },
  {
   "cell_type": "code",
   "execution_count": 1,
   "id": "2fb67a9d-19d2-41a8-a124-595595af08f5",
   "metadata": {},
   "outputs": [
    {
     "data": {
      "text/plain": [
       "2"
      ]
     },
     "execution_count": 1,
     "metadata": {},
     "output_type": "execute_result"
    }
   ],
   "source": [
    "1 + 1"
   ]
  },
  {
   "cell_type": "markdown",
   "id": "24030fd4-7379-48a6-8cba-6263bb0b776b",
   "metadata": {},
   "source": [
    "Horizontal Line:  \n",
    "---\n",
    "\n",
    "Bullet List:  \n",
    "- Testing\n",
    "- One\n",
    "- Two\n",
    "\n",
    "Numbered List:  \n",
    "1. Another Test\n",
    "2. Three\n",
    "3. four\n",
    "\n",
    "Table:  \n",
    "|Heading One|Heading Two|\n",
    "| --- | --- |\n",
    "|Table Body One|Table Body Two|\n",
    "|More Text|Even More Text|\n",
    "\n",
    "Hyperlinks:  \n",
    "[Google](https://www.google.com)\n",
    "\n",
    "Images:  \n",
    "![Cute Cat](https://images.unsplash.com/photo-1529778873920-4da4926a72c2?ixlib=rb-4.0.3&ixid=MnwxMjA3fDB8MHxzZWFyY2h8Mnx8Y3V0ZSUyMGNhdHxlbnwwfHwwfHw%3D&w=1000&q=80)  \n",
    "![Cute Dog](https://images.unsplash.com/photo-1587402092301-725e37c70fd8?ixlib=rb-4.0.3&ixid=MnwxMjA3fDB8MHxzZWFyY2h8Mnx8Y3V0ZSUyMGRvZ3N8ZW58MHx8MHx8&w=1000&q=80)\n",
    "\n",
    "Code:  \n",
    "`Secret Code`\n",
    "\n",
    "Blocked Quotes:  \n",
    "> Block quotes coming up to the left\n",
    "\n",
    "Strikethrough:  \n",
    "~crossed out~"
   ]
  }
 ],
 "metadata": {
  "kernelspec": {
   "display_name": "Python 3 (ipykernel)",
   "language": "python",
   "name": "python3"
  },
  "language_info": {
   "codemirror_mode": {
    "name": "ipython",
    "version": 3
   },
   "file_extension": ".py",
   "mimetype": "text/x-python",
   "name": "python",
   "nbconvert_exporter": "python",
   "pygments_lexer": "ipython3",
   "version": "3.11.0"
  }
 },
 "nbformat": 4,
 "nbformat_minor": 5
}
